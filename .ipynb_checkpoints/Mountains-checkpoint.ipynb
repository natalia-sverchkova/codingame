{
 "cells": [
  {
   "cell_type": "markdown",
   "metadata": {},
   "source": [
    "# Solution"
   ]
  },
  {
   "cell_type": "code",
   "execution_count": null,
   "metadata": {
    "collapsed": true
   },
   "outputs": [],
   "source": [
    "while True:\n",
    "    max = 0\n",
    "    imax = 0\n",
    "    for i in xrange(8):\n",
    "        mountain_h = int(raw_input()) # represents the height of one mountain, from 9 to 0. Mountain heights are provided from left to right.\n",
    "        if mountain_h > max:\n",
    "            max = mountain_h\n",
    "            imax = i\n",
    "\n",
    "    print imax"
   ]
  },
  {
   "cell_type": "markdown",
   "metadata": {},
   "source": [
    "# Other possibilities"
   ]
  },
  {
   "cell_type": "code",
   "execution_count": null,
   "metadata": {
    "collapsed": true
   },
   "outputs": [],
   "source": [
    "while True:\n",
    "    \n",
    "    print(max([(int(input()),x) for x in range(8)])[1])"
   ]
  },
  {
   "cell_type": "code",
   "execution_count": null,
   "metadata": {
    "collapsed": true
   },
   "outputs": [],
   "source": [
    "while True:\n",
    "    \n",
    "    mountains = []\n",
    "    for i in xrange(8):\n",
    "        mountain_h = int(raw_input())  # represents the height of one mountain, from 9 to 0.\n",
    "        mountains.append(mountain_h)\n",
    "   # Write an action using print\n",
    "   # To debug: print >> sys.stderr, \"Debug messages...\"\n",
    "   # The number of the mountain to fire on.\n",
    "\n",
    "   print mountains.index(max(mountains))"
   ]
  }
 ],
 "metadata": {
  "anaconda-cloud": {},
  "kernelspec": {
   "display_name": "Python [Root]",
   "language": "python",
   "name": "Python [Root]"
  },
  "language_info": {
   "codemirror_mode": {
    "name": "ipython",
    "version": 2
   },
   "file_extension": ".py",
   "mimetype": "text/x-python",
   "name": "python",
   "nbconvert_exporter": "python",
   "pygments_lexer": "ipython2",
   "version": "2.7.12"
  }
 },
 "nbformat": 4,
 "nbformat_minor": 0
}
