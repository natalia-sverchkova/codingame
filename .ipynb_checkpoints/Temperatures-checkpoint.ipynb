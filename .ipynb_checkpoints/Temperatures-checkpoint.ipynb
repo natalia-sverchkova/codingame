{
 "cells": [
  {
   "cell_type": "markdown",
   "metadata": {},
   "source": [
    "# My solution"
   ]
  },
  {
   "cell_type": "code",
   "execution_count": null,
   "metadata": {
    "collapsed": true
   },
   "outputs": [],
   "source": [
    "import sys\n",
    "import math\n",
    "\n",
    "# Auto-generated code below aims at helping you parse\n",
    "# the standard input according to the problem statement.\n",
    "\n",
    "n = int(raw_input())  # the number of temperatures to analyse\n",
    "temps = raw_input()  # the n temperatures expressed as integers ranging from -273 to 5526\n",
    "\n",
    "# Write an action using print\n",
    "# To debug: print >> sys.stderr, \"Debug messages...\"\n",
    "import re\n",
    "if len(temps)<>0:\n",
    "    temps = re.split(' ',temps)\n",
    "    for i in range(len(temps)):\n",
    "        temps[i] = int(temps[i])\n",
    "    res = temps[0]\n",
    "    for i in range(len(temps)):\n",
    "        if abs(res) > abs(temps[i]):\n",
    "            res = temps[i]\n",
    "        elif abs(res) == abs(temps[i]):\n",
    "            if ((res>temps[i])+(res<temps[i])):\n",
    "                res = abs(temps[i])\n",
    "            else:\n",
    "                res = temps[i]\n",
    "else:\n",
    "    res = 0\n",
    "    \n",
    "print res"
   ]
  }
 ],
 "metadata": {
  "anaconda-cloud": {},
  "kernelspec": {
   "display_name": "Python [Root]",
   "language": "python",
   "name": "Python [Root]"
  },
  "language_info": {
   "codemirror_mode": {
    "name": "ipython",
    "version": 2
   },
   "file_extension": ".py",
   "mimetype": "text/x-python",
   "name": "python",
   "nbconvert_exporter": "python",
   "pygments_lexer": "ipython2",
   "version": "2.7.12"
  }
 },
 "nbformat": 4,
 "nbformat_minor": 0
}
