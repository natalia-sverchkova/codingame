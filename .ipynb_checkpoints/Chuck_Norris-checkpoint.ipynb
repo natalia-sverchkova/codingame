{
 "cells": [
  {
   "cell_type": "markdown",
   "metadata": {},
   "source": [
    "# Solution"
   ]
  },
  {
   "cell_type": "code",
   "execution_count": null,
   "metadata": {
    "collapsed": true
   },
   "outputs": [],
   "source": [
    "import sys\n",
    "import math\n",
    "\n",
    "# Auto-generated code below aims at helping you parse\n",
    "# the standard input according to the problem statement.\n",
    "\n",
    "def toBinary(text):\n",
    "    return ''.join('{0:07b}'.format(ord(x)) for x in text)\n",
    "\n",
    "message = raw_input()\n",
    "bmessage = toBinary(message)\n",
    "\n",
    "count=1\n",
    "sym, n = '',''\n",
    "\n",
    "for i in range(1,len(bmessage)):\n",
    "    if bmessage[i-1] == bmessage[i]:\n",
    "        count+=1\n",
    "    else:\n",
    "        sym += bmessage[i-1]\n",
    "        n += str(count)\n",
    "        count=1\n",
    "\n",
    "sym += bmessage[i]\n",
    "n += str(count)\n",
    "\n",
    "nsym = zip(sym,n)\n",
    "\n",
    "line = ''\n",
    "for i in range(len(nsym)):\n",
    "    if nsym[i][0] == '1':\n",
    "        line += '0 ' + '0' * int(nsym[i][1]) + ' '\n",
    "    else:\n",
    "        line += '00 ' + '0'* int(nsym[i][1]) + ' '\n",
    "\n",
    "# Write an action using print\n",
    "# To debug: print >> sys.stderr, \"Debug messages...\"\n",
    "\n",
    "print line.strip()"
   ]
  }
 ],
 "metadata": {
  "kernelspec": {
   "display_name": "Python [Root]",
   "language": "python",
   "name": "Python [Root]"
  },
  "language_info": {
   "codemirror_mode": {
    "name": "ipython",
    "version": 2
   },
   "file_extension": ".py",
   "mimetype": "text/x-python",
   "name": "python",
   "nbconvert_exporter": "python",
   "pygments_lexer": "ipython2",
   "version": "2.7.12"
  }
 },
 "nbformat": 4,
 "nbformat_minor": 0
}
