{
 "cells": [
  {
   "cell_type": "markdown",
   "metadata": {},
   "source": [
    "# Task"
   ]
  },
  {
   "cell_type": "markdown",
   "metadata": {},
   "source": [
    "Casablanca’s hippodrome is organizing a new type of horse racing: duals. During a dual, only two horses will participate in the race. In order for the race to be interesting, it is necessary to try to select two horses with similar strength.\n",
    "\n",
    "Write a program which, using a given number of strengths, identifies the two closest strengths and shows their difference with an integer (≥ 0)."
   ]
  },
  {
   "cell_type": "markdown",
   "metadata": {},
   "source": [
    "# My solution"
   ]
  },
  {
   "cell_type": "code",
   "execution_count": null,
   "metadata": {
    "collapsed": true
   },
   "outputs": [],
   "source": [
    "import sys\n",
    "import math\n",
    "\n",
    "# Auto-generated code below aims at helping you parse\n",
    "# the standard input according to the problem statement.\n",
    "\n",
    "n = int(raw_input())\n",
    "\n",
    "strengths = []\n",
    "\n",
    "for i in xrange(n):\n",
    "    pi = int(raw_input())\n",
    "    strengths.append(pi)\n",
    "\n",
    "strengths.sort()\n",
    "d = strengths[-1] - strengths[0]\n",
    "\n",
    "for i in range(1, len(strengths)):\n",
    "    if strengths[i] - strengths[i-1] < d:\n",
    "        d = strengths[i] - strengths[i-1]\n",
    "# Write an action using print\n",
    "# To debug: print >> sys.stderr, \"Debug messages...\"\n",
    "\n",
    "print d"
   ]
  },
  {
   "cell_type": "markdown",
   "metadata": {},
   "source": [
    "## solution from user ma"
   ]
  },
  {
   "cell_type": "code",
   "execution_count": null,
   "metadata": {
    "collapsed": true
   },
   "outputs": [],
   "source": [
    "n=int(raw_input());\n",
    "s=[int(raw_input()) for i in xrange(n)];\n",
    "s.sort();\n",
    "q=[abs(s[i] - s[i+1]) for i in xrange(n-1)];\n",
    "print min(q)"
   ]
  }
 ],
 "metadata": {
  "kernelspec": {
   "display_name": "Python [Root]",
   "language": "python",
   "name": "Python [Root]"
  },
  "language_info": {
   "codemirror_mode": {
    "name": "ipython",
    "version": 2
   },
   "file_extension": ".py",
   "mimetype": "text/x-python",
   "name": "python",
   "nbconvert_exporter": "python",
   "pygments_lexer": "ipython2",
   "version": "2.7.12"
  }
 },
 "nbformat": 4,
 "nbformat_minor": 0
}
