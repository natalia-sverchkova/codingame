{
 "cells": [
  {
   "cell_type": "markdown",
   "metadata": {},
   "source": [
    "# My solution"
   ]
  },
  {
   "cell_type": "code",
   "execution_count": null,
   "metadata": {
    "collapsed": true
   },
   "outputs": [],
   "source": [
    "import sys\n",
    "import math\n",
    "\n",
    "# Auto-generated code below aims at helping you parse\n",
    "# the standard input according to the problem statement.\n",
    "# ---\n",
    "# Hint: You can use the debug stream to print initialTX and initialTY, if Thor seems not follow your orders.\n",
    "\n",
    "# light_x: the X position of the light of power\n",
    "# light_y: the Y position of the light of power\n",
    "# initial_tx: Thor's starting X position\n",
    "# initial_ty: Thor's starting Y position\n",
    "light_x, light_y, initial_tx, initial_ty = [int(i) for i in raw_input().split()]\n",
    "\n",
    "# game loop\n",
    "while True:\n",
    "    remaining_turns = int(raw_input())  # The remaining amount of turns Thor can move. Do not remove this line.\n",
    "\n",
    "    dx = initial_tx - light_x\n",
    "    dy = initial_ty - light_y\n",
    "    \n",
    "    initial_tx = initial_tx + ((dx>0)*(-1) + (dx<0)*1)\n",
    "    initial_ty = initial_ty + ((dy>0)*(-1) + (dy<0)*1)\n",
    "    \n",
    "    step = (dy>0)*'N'+(dy<0)*'S'+(dx<0)*'E'+(dx>0)*'W'\n",
    "    # Write an action using print\n",
    "    # To debug: print >> sys.stderr, \"Debug messages...\"\n",
    "\n",
    "\n",
    "    # A single line providing the move to be made: N NE E SE S SW W or NW\n",
    "    print step\n"
   ]
  },
  {
   "cell_type": "markdown",
   "metadata": {},
   "source": [
    "# Game solution with explicit conditions"
   ]
  },
  {
   "cell_type": "code",
   "execution_count": null,
   "metadata": {
    "collapsed": true
   },
   "outputs": [],
   "source": [
    "import sys\n",
    "import math\n",
    "\n",
    "# Auto-generated code below aims at helping you parse\n",
    "# the standard input according to the problem statement.\n",
    "# ---\n",
    "# Hint: You can use the debug stream to print initialTX and initialTY, if Thor seems not follow your orders.\n",
    "\n",
    "# light_x: the X position of the light of power\n",
    "# light_y: the Y position of the light of power\n",
    "# initial_tx: Thor's starting X position\n",
    "# initial_ty: Thor's starting Y position\n",
    "light_x, light_y, initial_tx, initial_ty = [int(i) for i in raw_input().split()]\n",
    "\n",
    "thor_x, thor_y = initial_tx, initial_ty\n",
    "\n",
    "# game loop\n",
    "while 1:\n",
    "    remaining_turns = int(raw_input())\n",
    "    \n",
    "    direction_x = \"\"\n",
    "    direction_y = \"\"\n",
    "    \n",
    "    if thor_x > light_x:\n",
    "        direction_x = \"W\"\n",
    "        thor_x -= 1\n",
    "    elif thor_x < light_x:\n",
    "        direction_x = \"E\"\n",
    "        thor_x += 1\n",
    "        \n",
    "    if thor_y > light_y:\n",
    "        direction_y = \"N\"\n",
    "        thor_y -= 1\n",
    "    elif thor_y < light_y:\n",
    "        direction_y = \"S\"\n",
    "        thor_y += 1\n",
    "    \n",
    "    # A single line providing the move to be made: N NE E SE S SW W or NW\n",
    "    print direction_y + direction_x"
   ]
  }
 ],
 "metadata": {
  "kernelspec": {
   "display_name": "Python [Root]",
   "language": "python",
   "name": "Python [Root]"
  },
  "language_info": {
   "codemirror_mode": {
    "name": "ipython",
    "version": 2
   },
   "file_extension": ".py",
   "mimetype": "text/x-python",
   "name": "python",
   "nbconvert_exporter": "python",
   "pygments_lexer": "ipython2",
   "version": "2.7.12"
  }
 },
 "nbformat": 4,
 "nbformat_minor": 0
}
