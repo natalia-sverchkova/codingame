{
 "cells": [
  {
   "cell_type": "code",
   "execution_count": null,
   "metadata": {
    "collapsed": true
   },
   "outputs": [],
   "source": [
    "import sys\n",
    "import math\n",
    "\n",
    "# Auto-generated code below aims at helping you parse\n",
    "# the standard input according to the problem statement.\n",
    "\n",
    "l = int(raw_input())\n",
    "h = int(raw_input())\n",
    "t = raw_input()\n",
    "\n",
    "t = [ord(item.lower())-96 for item in t]\n",
    "\n",
    "for i in xrange(h):\n",
    "    row = raw_input()\n",
    "    \n",
    "    sym = ''\n",
    "    for i in range(len(t)):\n",
    "        if (t[i]>=1)*(t[i]<=26):\n",
    "            a1,a2 = (t[i]-1)*l, (t[i])*l\n",
    "            sym = sym + str(row[a1:a2])\n",
    "        else:\n",
    "            sym = sym + str(row[26*l:27*l])\n",
    "    \n",
    "    print sym\n"
   ]
  }
 ],
 "metadata": {
  "kernelspec": {
   "display_name": "Python [Root]",
   "language": "python",
   "name": "Python [Root]"
  },
  "language_info": {
   "codemirror_mode": {
    "name": "ipython",
    "version": 2
   },
   "file_extension": ".py",
   "mimetype": "text/x-python",
   "name": "python",
   "nbconvert_exporter": "python",
   "pygments_lexer": "ipython2",
   "version": "2.7.12"
  }
 },
 "nbformat": 4,
 "nbformat_minor": 0
}
