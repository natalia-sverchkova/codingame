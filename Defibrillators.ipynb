{
 "cells": [
  {
   "cell_type": "markdown",
   "metadata": {},
   "source": [
    "# My solution"
   ]
  },
  {
   "cell_type": "code",
   "execution_count": null,
   "metadata": {
    "collapsed": true
   },
   "outputs": [],
   "source": [
    "import sys\n",
    "import math\n",
    "\n",
    "# Auto-generated code below aims at helping you parse\n",
    "# the standard input according to the problem statement.\n",
    "\n",
    "lon = raw_input()\n",
    "lat = raw_input()\n",
    "n = int(raw_input())\n",
    "\n",
    "longitude = float(lon.replace(',','.'))\n",
    "latitude = float(lat.replace(',','.'))\n",
    "\n",
    "def degreesToRad(angle):\n",
    "    return angle*math.pi/180\n",
    "\n",
    "longitudeRad = degreesToRad(longitude)\n",
    "latitudeRad = degreesToRad(latitude)\n",
    "\n",
    "closest = ''\n",
    "nameClosest = ''\n",
    "for i in xrange(n):\n",
    "    defib = raw_input()\n",
    "    \n",
    "    id, name, address, phone, lonD, latD = defib.split(';')\n",
    "    \n",
    "    lonD, latD = float(lonD.replace(',','.')), float(latD.replace(',','.'))\n",
    "    lonDrad, latDrad = degreesToRad(lonD),degreesToRad(latD)\n",
    "    \n",
    "    x = (longitudeRad - lonDrad) * math.cos((latitudeRad + latDrad)/2)\n",
    "    y = latitudeRad - latDrad\n",
    "    d = (x**2 + y**2)**0.5 * 6371\n",
    "    \n",
    "    if (d < closest) + (closest == ''):\n",
    "        closest, nameClosest = d, name\n",
    "    \n",
    "print nameClosest"
   ]
  },
  {
   "cell_type": "markdown",
   "metadata": {},
   "source": [
    "# Other solutions"
   ]
  },
  {
   "cell_type": "code",
   "execution_count": null,
   "metadata": {
    "collapsed": true
   },
   "outputs": [],
   "source": [
    "import sys\n",
    "import math\n",
    "\n",
    "\n",
    "# Auto-generated code below aims at helping you parse\n",
    "# the standard input according to the problem statement.\n",
    "\n",
    "lon = raw_input().replace(\",\",\".\")\n",
    "lat = raw_input().replace(\",\",\".\")\n",
    "n = int(raw_input())\n",
    "defib = {}\n",
    "dist = {}\n",
    "for i in xrange(n):\n",
    "    input = raw_input().split(\";\")\n",
    "    defib[i] = {}\n",
    "    defib[i][\"name\"] = input[1]\n",
    "    defib[i][\"addr\"] = input[2]\n",
    "    defib[i][\"cont\"] = input[3]\n",
    "    defib[i][\"lon\"] = input[4].replace(\",\",\".\")\n",
    "    defib[i][\"lat\"] = input[5].replace(\",\",\".\")\n",
    "    # Caclulate distance, considering A as current location of Victim\n",
    "    # and B as location of defilbrillator we just got as input\n",
    "    x = ( float(defib[i][\"lon\"]) - float(lon) )  *  math.cos( (float(lat) + float(defib[i][\"lat\"]))  /  2 )\n",
    "    y = ( float(defib[i][\"lat\"]) - float(lat) )\n",
    "    defib[i][\"dist\"] = math.sqrt(math.pow(x,2) + math.pow(y,2)) * 6371\n",
    "    \n",
    "    # Keeping and index of distance\n",
    "    dist[defib[i][\"dist\"]] = i\n",
    "\n",
    "# Pullout information from defib based on smallest distance from index\n",
    "print defib[dist[sorted(dist)[0]]][\"name\"]"
   ]
  }
 ],
 "metadata": {
  "kernelspec": {
   "display_name": "Python [Root]",
   "language": "python",
   "name": "Python [Root]"
  },
  "language_info": {
   "codemirror_mode": {
    "name": "ipython",
    "version": 2
   },
   "file_extension": ".py",
   "mimetype": "text/x-python",
   "name": "python",
   "nbconvert_exporter": "python",
   "pygments_lexer": "ipython2",
   "version": "2.7.12"
  }
 },
 "nbformat": 4,
 "nbformat_minor": 0
}
