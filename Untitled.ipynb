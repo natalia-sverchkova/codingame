{
 "cells": [
  {
   "cell_type": "code",
   "execution_count": 52,
   "metadata": {
    "collapsed": true
   },
   "outputs": [],
   "source": [
    "xi = 1\n",
    "yi = 3\n",
    "xl = 7\n",
    "yl = 1"
   ]
  },
  {
   "cell_type": "code",
   "execution_count": 61,
   "metadata": {
    "collapsed": false
   },
   "outputs": [
    {
     "name": "stdout",
     "output_type": "stream",
     "text": [
      "-6 2\n"
     ]
    }
   ],
   "source": [
    "dx = xi - xl\n",
    "dy = yi - yl\n",
    "print dx, dy"
   ]
  },
  {
   "cell_type": "code",
   "execution_count": 28,
   "metadata": {
    "collapsed": false
   },
   "outputs": [
    {
     "name": "stdout",
     "output_type": "stream",
     "text": [
      " <type 'str'>"
     ]
    },
    {
     "ename": "IndexError",
     "evalue": "string index out of range",
     "output_type": "error",
     "traceback": [
      "\u001b[1;31m---------------------------------------------------------------------------\u001b[0m",
      "\u001b[1;31mIndexError\u001b[0m                                Traceback (most recent call last)",
      "\u001b[1;32m<ipython-input-28-4b1f25c34b09>\u001b[0m in \u001b[0;36m<module>\u001b[1;34m()\u001b[0m\n\u001b[0;32m      1\u001b[0m \u001b[0mxdir\u001b[0m \u001b[1;33m=\u001b[0m \u001b[1;33m(\u001b[0m\u001b[1;34m'E'\u001b[0m\u001b[1;33m)\u001b[0m\u001b[1;33m*\u001b[0m\u001b[0mdx\u001b[0m\u001b[1;33m\u001b[0m\u001b[0m\n\u001b[1;32m----> 2\u001b[1;33m \u001b[1;32mprint\u001b[0m \u001b[0mxdir\u001b[0m\u001b[1;33m,\u001b[0m \u001b[0mtype\u001b[0m\u001b[1;33m(\u001b[0m\u001b[0mxdir\u001b[0m\u001b[1;33m)\u001b[0m\u001b[1;33m,\u001b[0m\u001b[0mxdir\u001b[0m\u001b[1;33m[\u001b[0m\u001b[1;36m2\u001b[0m\u001b[1;33m]\u001b[0m\u001b[1;33m\u001b[0m\u001b[0m\n\u001b[0m",
      "\u001b[1;31mIndexError\u001b[0m: string index out of range"
     ]
    }
   ],
   "source": [
    "xdir = ('E')*dx\n",
    "print xdir, type(xdir),xdir[2]"
   ]
  },
  {
   "cell_type": "code",
   "execution_count": 38,
   "metadata": {
    "collapsed": false
   },
   "outputs": [
    {
     "name": "stdout",
     "output_type": "stream",
     "text": [
      "\n"
     ]
    }
   ],
   "source": [
    "xdir = 0\n",
    "if dx>0:\n",
    "    xdir = ('E')*dx\n",
    "else:\n",
    "    xdir = ('W')*(-dx)\n",
    "    \n",
    "print xdir"
   ]
  },
  {
   "cell_type": "code",
   "execution_count": 39,
   "metadata": {
    "collapsed": false
   },
   "outputs": [
    {
     "name": "stdout",
     "output_type": "stream",
     "text": [
      "SSSS\n"
     ]
    }
   ],
   "source": [
    "ydir = 0\n",
    "if dy>0:\n",
    "    ydir = ('N')*dy\n",
    "else:\n",
    "    ydir = ('S')*(-dy)\n",
    "    \n",
    "print ydir"
   ]
  },
  {
   "cell_type": "code",
   "execution_count": 40,
   "metadata": {
    "collapsed": false
   },
   "outputs": [
    {
     "name": "stdout",
     "output_type": "stream",
     "text": [
      "4\n"
     ]
    }
   ],
   "source": [
    "print abs(dy)"
   ]
  },
  {
   "cell_type": "code",
   "execution_count": 41,
   "metadata": {
    "collapsed": false
   },
   "outputs": [
    {
     "name": "stdout",
     "output_type": "stream",
     "text": [
      "[]\n"
     ]
    }
   ],
   "source": [
    "print zip(ydir,xdir)"
   ]
  },
  {
   "cell_type": "code",
   "execution_count": 42,
   "metadata": {
    "collapsed": false
   },
   "outputs": [
    {
     "name": "stdout",
     "output_type": "stream",
     "text": [
      "SSSS\n"
     ]
    }
   ],
   "source": [
    "print ydir+xdir"
   ]
  },
  {
   "cell_type": "code",
   "execution_count": 43,
   "metadata": {
    "collapsed": false
   },
   "outputs": [
    {
     "name": "stdout",
     "output_type": "stream",
     "text": [
      "S S S S\n"
     ]
    }
   ],
   "source": [
    "print ' '.join(str(ydir+xdir)[i] for i in range(len(ydir+xdir)))"
   ]
  },
  {
   "cell_type": "code",
   "execution_count": 44,
   "metadata": {
    "collapsed": false
   },
   "outputs": [
    {
     "name": "stdout",
     "output_type": "stream",
     "text": [
      "S S S S\n"
     ]
    }
   ],
   "source": [
    "dir = ' '.join(str(ydir+xdir)[i] for i in range(len(ydir+xdir)))\n",
    "print dir"
   ]
  },
  {
   "cell_type": "code",
   "execution_count": 73,
   "metadata": {
    "collapsed": false
   },
   "outputs": [
    {
     "name": "stdout",
     "output_type": "stream",
     "text": [
      "s\n",
      "-1\n"
     ]
    }
   ],
   "source": [
    "dy=-2\n",
    "while (dy >= 0):\n",
    "    print 'N'\n",
    "    dy-=1\n",
    "    print dy\n",
    "else: \n",
    "    print 's'\n",
    "    dy+=1\n",
    "    print dy"
   ]
  },
  {
   "cell_type": "code",
   "execution_count": 84,
   "metadata": {
    "collapsed": true
   },
   "outputs": [],
   "source": [
    "xi = 10\n",
    "yi = 3\n",
    "xl = 1\n",
    "yl = 7"
   ]
  },
  {
   "cell_type": "code",
   "execution_count": 85,
   "metadata": {
    "collapsed": false
   },
   "outputs": [
    {
     "name": "stdout",
     "output_type": "stream",
     "text": [
      "9 -4\n"
     ]
    }
   ],
   "source": [
    "dx = xi - xl\n",
    "dy = yi - yl\n",
    "print dx, dy"
   ]
  },
  {
   "cell_type": "code",
   "execution_count": 86,
   "metadata": {
    "collapsed": false
   },
   "outputs": [
    {
     "name": "stdout",
     "output_type": "stream",
     "text": [
      "ES\n"
     ]
    }
   ],
   "source": [
    "step = (dx>0)*'E'+(dx<0)*'W'+(dy>0)*'N'+(dy<0)*'S'\n",
    "print step"
   ]
  },
  {
   "cell_type": "code",
   "execution_count": 88,
   "metadata": {
    "collapsed": false
   },
   "outputs": [
    {
     "name": "stdout",
     "output_type": "stream",
     "text": [
      "9 4\n"
     ]
    }
   ],
   "source": [
    "xnew = xi + ((dx>0)*(-1) + (dx<0)*1)\n",
    "ynew = yi + ((dy>0)*(-1) + (dy<0)*1)\n",
    "print xnew, ynew"
   ]
  },
  {
   "cell_type": "code",
   "execution_count": 1,
   "metadata": {
    "collapsed": true
   },
   "outputs": [],
   "source": [
    "import sys\n",
    "import math\n",
    "import re"
   ]
  },
  {
   "cell_type": "code",
   "execution_count": 17,
   "metadata": {
    "collapsed": true
   },
   "outputs": [],
   "source": [
    "temps = ''"
   ]
  },
  {
   "cell_type": "code",
   "execution_count": 3,
   "metadata": {
    "collapsed": false
   },
   "outputs": [
    {
     "name": "stdout",
     "output_type": "stream",
     "text": [
      "['1', '-4', '9', '-5', '2', '0'] -4\n"
     ]
    }
   ],
   "source": [
    "temps = re.split(' ',temps)\n",
    "print temps, temps[1]"
   ]
  },
  {
   "cell_type": "code",
   "execution_count": 7,
   "metadata": {
    "collapsed": false
   },
   "outputs": [
    {
     "name": "stdout",
     "output_type": "stream",
     "text": [
      "[1, -4, 9, -5, 2, 0] -4\n"
     ]
    }
   ],
   "source": [
    "for i in range(len(temps)):\n",
    "    temps[i] = int(temps[i])\n",
    "\n",
    "print temps, temps[1]"
   ]
  },
  {
   "cell_type": "code",
   "execution_count": 11,
   "metadata": {
    "collapsed": false
   },
   "outputs": [
    {
     "name": "stdout",
     "output_type": "stream",
     "text": [
      "0\n"
     ]
    }
   ],
   "source": [
    "res = temps[0]\n",
    "for i in range(len(temps)):\n",
    "    if abs(res) > abs(temps[i]):\n",
    "        res = temps[i]\n",
    "    elif abs(res) == abs(temps[i]):\n",
    "        if ((res>temps[i])+(res<temps[i])):\n",
    "            res = abs(temps[i])\n",
    "        else:\n",
    "            res = temps[i]\n",
    "        \n",
    "\n",
    "print res"
   ]
  },
  {
   "cell_type": "code",
   "execution_count": 18,
   "metadata": {
    "collapsed": false
   },
   "outputs": [],
   "source": [
    "while len(temps)<>0:\n",
    "    temps = re.split(' ',temps)\n",
    "    for i in range(len(temps)):\n",
    "        temps[i] = int(temps[i])\n",
    "    res = temps[0]\n",
    "    for i in range(len(temps)):\n",
    "        if abs(res) > abs(temps[i]):\n",
    "            res = temps[i]\n",
    "        elif abs(res) == abs(temps[i]):\n",
    "            if ((res>temps[i])+(res<temps[i])):\n",
    "                res = abs(temps[i])\n",
    "            else:\n",
    "                res = temps[i]\n",
    "            \n",
    "    print res"
   ]
  },
  {
   "cell_type": "code",
   "execution_count": 21,
   "metadata": {
    "collapsed": false
   },
   "outputs": [
    {
     "data": {
      "text/plain": [
       "True"
      ]
     },
     "execution_count": 21,
     "metadata": {},
     "output_type": "execute_result"
    }
   ],
   "source": [
    "type(temps)==str"
   ]
  },
  {
   "cell_type": "code",
   "execution_count": 28,
   "metadata": {
    "collapsed": false
   },
   "outputs": [
    {
     "name": "stdout",
     "output_type": "stream",
     "text": [
      "97 65 32\n"
     ]
    }
   ],
   "source": [
    "print ord('a'), ord('A'), ord(' ')"
   ]
  },
  {
   "cell_type": "code",
   "execution_count": 26,
   "metadata": {
    "collapsed": false
   },
   "outputs": [
    {
     "name": "stdout",
     "output_type": "stream",
     "text": [
      "[13, 1, 14, 8, 1, 20, 20, 1, 14]\n"
     ]
    }
   ],
   "source": [
    "t = 'ManhAtTan'\n",
    "text = [ord(item.lower())-96 for item in t]\n",
    "print text"
   ]
  },
  {
   "cell_type": "code",
   "execution_count": 44,
   "metadata": {
    "collapsed": false
   },
   "outputs": [
    {
     "name": "stdout",
     "output_type": "stream",
     "text": [
      "[13, 1, 14, 8, 1, 20, 20, 1, 14] 13 <type 'int'>\n"
     ]
    }
   ],
   "source": [
    "t = 'ManhAtTan'\n",
    "t = [ord(item.lower())-96 for item in t]\n",
    "print t, t[0], type (t[0])"
   ]
  },
  {
   "cell_type": "code",
   "execution_count": 53,
   "metadata": {
    "collapsed": false
   },
   "outputs": [
    {
     "name": "stdout",
     "output_type": "stream",
     "text": [
      "row[48:51],row[0:3],row[52:55],row[28:31],row[0:3],row[76:79],row[76:79],row[0:3],\n"
     ]
    }
   ],
   "source": [
    "a = ''\n",
    "for i in range(len(t)-1):\n",
    "    if t[i]>0:\n",
    "        a = a + 'row[' + str((t[i]-1)*4) + ':' + str((t[i]*4-1)) + '],'\n",
    "    else:\n",
    "        a = a + 'row[' + str(26*4) + ':' + str(27*4-1) + '],'\n",
    "        \n",
    "print a"
   ]
  },
  {
   "cell_type": "code",
   "execution_count": 54,
   "metadata": {
    "collapsed": false
   },
   "outputs": [
    {
     "name": "stdout",
     "output_type": "stream",
     "text": [
      "row[48:51],row[0:3],row[52:55],row[28:31],row[0:3],row[76:79],row[76:79],row[0:3],row[52:56]\n"
     ]
    }
   ],
   "source": [
    "if t[len(t)-1]>0:\n",
    "    a = a + 'row[' + str((t[len(t)-1]-1)*4) + ':' +str((t[len(t)-1]*4)) + ']'\n",
    "else:\n",
    "    a = a + 'row[' + str(26*4) + ':' + str(27*4) + ']'\n",
    "\n",
    "print a"
   ]
  },
  {
   "cell_type": "code",
   "execution_count": 39,
   "metadata": {
    "collapsed": false
   },
   "outputs": [
    {
     "name": "stdout",
     "output_type": "stream",
     "text": [
      "['48:52', '0:4', '52:56', '104:108', '28:32', '0:4', '76:80', '76:80', '0:4', '52:56', '']\n"
     ]
    }
   ],
   "source": [
    "a = re.split(' ',a)\n",
    "print a"
   ]
  },
  {
   "cell_type": "code",
   "execution_count": 59,
   "metadata": {
    "collapsed": false
   },
   "outputs": [
    {
     "name": "stdout",
     "output_type": "stream",
     "text": [
      "row[60:64],row[20:24],row[65:69],row[35:39],row[0:4],row[95:99],row[130:134],row[95:99],row[0:4],row[65:70]\n"
     ]
    }
   ],
   "source": [
    "l = 4\n",
    "t = 'MenhAt Tan'\n",
    "t = [ord(item.lower())-96 for item in t]\n",
    "symbols = ('')\n",
    "a = ''\n",
    "for i in range(len(t)-1):\n",
    "    if t[i]>0:\n",
    "        a = a + 'row[' + str((t[i]-1)*l) + ':' + str((t[i]*l-1)) + '],'\n",
    "    else:\n",
    "        a = a + 'row[' + str(26*l) + ':' + str(27*l-1) + '],'\n",
    "if t[len(t)-1] > 0:\n",
    "    a = a + 'row[' + str((t[len(t)-1]-1)*l) + ':' +str((t[len(t)-1]*l)) + ']'\n",
    "else:\n",
    "    a = a + 'row[' + str(26*l) + ':' + str(27*l) + ']'\n",
    "print a"
   ]
  },
  {
   "cell_type": "code",
   "execution_count": 63,
   "metadata": {
    "collapsed": false
   },
   "outputs": [
    {
     "name": "stdout",
     "output_type": "stream",
     "text": [
      "row[60:65]\n",
      "row[20:25]\n",
      "row[65:70]\n",
      "row[35:40]\n",
      "row[0:5]\n",
      "row[95:100]\n",
      "row[130:135]\n",
      "row[95:100]\n",
      "row[0:5]\n",
      "row[65:70]\n"
     ]
    }
   ],
   "source": [
    "for i in range(len(t)):\n",
    "    if (t[i]>=1)*(t[i]<=26):\n",
    "        a1,a2 = (t[i]-1)*l,(t[i]*l) \n",
    "    else:\n",
    "        a1,a2 = 26*l,(27*l)\n",
    "    print 'row['+str(a1)+':'+str(a2)+']'"
   ]
  },
  {
   "cell_type": "code",
   "execution_count": null,
   "metadata": {
    "collapsed": true
   },
   "outputs": [],
   "source": [
    "sym = ''\n",
    "for i in range(len(t)):\n",
    "    if (t[i]>=1)*(t[i]<=26):\n",
    "        sym = sym + str(row[(i-1)*l:i*l)]) \n",
    "    else:\n",
    "        sym = sym + str(row[26*l:27*l)])\n",
    "    print sym"
   ]
  },
  {
   "cell_type": "code",
   "execution_count": 20,
   "metadata": {
    "collapsed": false
   },
   "outputs": [
    {
     "name": "stdout",
     "output_type": "stream",
     "text": [
      "<type 'str'> <type 'str'>\n"
     ]
    }
   ],
   "source": [
    "lon = '3,879483'\n",
    "lat = '43,608177'\n",
    "longitude = '3,87952263361082'\n",
    "latitude = '43,6071285339217'\n",
    "\n",
    "print type(longitude), type(latitude)"
   ]
  },
  {
   "cell_type": "code",
   "execution_count": 21,
   "metadata": {
    "collapsed": false
   },
   "outputs": [
    {
     "name": "stdout",
     "output_type": "stream",
     "text": [
      "3.87952263361 43.6071285339 <type 'float'> <type 'float'>\n"
     ]
    }
   ],
   "source": [
    "longitude = float(longitude.replace(',','.'))\n",
    "latitude = float(latitude.replace(',','.'))\n",
    "lon = float(lon.replace(',','.'))\n",
    "lat = float(lat.replace(',','.'))\n",
    "\n",
    "print longitude, latitude, type(longitude), type(latitude)"
   ]
  },
  {
   "cell_type": "code",
   "execution_count": 7,
   "metadata": {
    "collapsed": true
   },
   "outputs": [],
   "source": [
    "import sys\n",
    "import math\n",
    "def degreesToRad(angle):\n",
    "    return angle*math.pi/180"
   ]
  },
  {
   "cell_type": "code",
   "execution_count": 22,
   "metadata": {
    "collapsed": false
   },
   "outputs": [
    {
     "name": "stdout",
     "output_type": "stream",
     "text": [
      "0.0677104433622 0.761087970257 <type 'float'> <type 'float'>\n"
     ]
    }
   ],
   "source": [
    "longitudeRad = degreesToRad(longitude)\n",
    "latitudeRad = degreesToRad(latitude)\n",
    "lonRad = degreesToRad(lon)\n",
    "latRad = degreesToRad(lat)\n",
    "\n",
    "print longitudeRad, latitudeRad, type(longitudeRad), type(latitudeRad)"
   ]
  },
  {
   "cell_type": "code",
   "execution_count": 9,
   "metadata": {
    "collapsed": true
   },
   "outputs": [],
   "source": [
    "defib = '1;Maison de la Prevention Sante;6 rue Maguelone 340000 Montpellier;;3,87952263361082;43,6071285339217'"
   ]
  },
  {
   "cell_type": "code",
   "execution_count": 18,
   "metadata": {
    "collapsed": false
   },
   "outputs": [
    {
     "name": "stdout",
     "output_type": "stream",
     "text": [
      "1 Maison de la Prevention Sante 6 rue Maguelone 340000 Montpellier  3,87952263361082 43,6071285339217\n"
     ]
    }
   ],
   "source": [
    "id, name, address, phone, lonD, latD = defib.split(';')\n",
    "print id, name, address, phone, lonD, latD"
   ]
  },
  {
   "cell_type": "code",
   "execution_count": 12,
   "metadata": {
    "collapsed": false
   },
   "outputs": [
    {
     "name": "stdout",
     "output_type": "stream",
     "text": [
      "['1', 'Maison de la Prevention Sante', '6 rue Maguelone 340000 Montpellier', '', '3,87952263361082', '43,6071285339217']\n"
     ]
    }
   ],
   "source": [
    "print defib.split(';')"
   ]
  },
  {
   "cell_type": "code",
   "execution_count": 23,
   "metadata": {
    "collapsed": false
   },
   "outputs": [
    {
     "name": "stdout",
     "output_type": "stream",
     "text": [
      "5.00872753114e-07 -1.82991851616e-05 0.116627772246\n"
     ]
    }
   ],
   "source": [
    "x = (longitudeRad - lonRad)*math.cos((latitudeRad+latRad)/2)\n",
    "y = latitudeRad - latRad\n",
    "d = (x**2+y**2)**0.5*6371\n",
    "print x,y,d "
   ]
  },
  {
   "cell_type": "code",
   "execution_count": null,
   "metadata": {
    "collapsed": true
   },
   "outputs": [],
   "source": []
  }
 ],
 "metadata": {
  "kernelspec": {
   "display_name": "Python [Root]",
   "language": "python",
   "name": "Python [Root]"
  },
  "language_info": {
   "codemirror_mode": {
    "name": "ipython",
    "version": 2
   },
   "file_extension": ".py",
   "mimetype": "text/x-python",
   "name": "python",
   "nbconvert_exporter": "python",
   "pygments_lexer": "ipython2",
   "version": "2.7.12"
  }
 },
 "nbformat": 4,
 "nbformat_minor": 0
}
