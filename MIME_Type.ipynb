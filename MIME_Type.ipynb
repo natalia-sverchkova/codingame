{
 "cells": [
  {
   "cell_type": "markdown",
   "metadata": {},
   "source": [
    "# My solution"
   ]
  },
  {
   "cell_type": "code",
   "execution_count": null,
   "metadata": {
    "collapsed": true
   },
   "outputs": [],
   "source": [
    "import sys\n",
    "import math\n",
    "\n",
    "# Auto-generated code below aims at helping you parse\n",
    "# the standard input according to the problem statement.\n",
    "\n",
    "n = int(raw_input())  # Number of elements which make up the association table.\n",
    "q = int(raw_input())  # Number Q of file names to be analyzed.\n",
    "\n",
    "mime = {}\n",
    "\n",
    "for i in xrange(n):\n",
    "    # ext: file extension\n",
    "    # mt: MIME type.\n",
    "    ext, mt = raw_input().split()\n",
    "    mime[ext.lower()] = mt\n",
    "    \n",
    "for i in xrange(q):\n",
    "    fname = raw_input()  # One file name per line.\n",
    "    fname = fname.split('.')\n",
    "    if (fname[-1].lower() in mime.keys())*(len(fname)<>1):\n",
    "        mtype = mime[fname[-1].lower()]\n",
    "    else:\n",
    "        mtype = 'UNKNOWN'\n",
    "    \n",
    "    print mtype"
   ]
  }
 ],
 "metadata": {
  "anaconda-cloud": {},
  "kernelspec": {
   "display_name": "Python [Root]",
   "language": "python",
   "name": "Python [Root]"
  },
  "language_info": {
   "codemirror_mode": {
    "name": "ipython",
    "version": 2
   },
   "file_extension": ".py",
   "mimetype": "text/x-python",
   "name": "python",
   "nbconvert_exporter": "python",
   "pygments_lexer": "ipython2",
   "version": "2.7.12"
  }
 },
 "nbformat": 4,
 "nbformat_minor": 0
}
